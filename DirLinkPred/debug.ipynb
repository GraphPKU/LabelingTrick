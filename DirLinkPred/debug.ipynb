{
 "cells": [
  {
   "cell_type": "code",
   "execution_count": 2,
   "metadata": {},
   "outputs": [
    {
     "name": "stdout",
     "output_type": "stream",
     "text": [
      "direction\n",
      "dizo average 0.8420133794104917 pm 0.014512468106000117\n",
      "zo average 0.846210629506982 pm 0.02012021614093189\n",
      "no average 0.5 pm 0.0\n",
      "dizo average 0.8395555764663776 pm 0.01868138955850442\n",
      "zo average 0.8315649496856388 pm 0.015117179392464947\n",
      "no average 0.5 pm 0.0\n",
      "dizo average 0.9680547580842479 pm 0.0059425073478123714\n",
      "zo average 0.968062195255413 pm 0.005775573292215923\n",
      "no average 0.5 pm 0.0\n",
      "dizo average 0.8507716269238008 pm 0.047009738372731404\n",
      "zo average 0.8582183468705209 pm 0.06507634105289571\n",
      "no average 0.5 pm 0.0\n",
      "dizo average 0.8412988911673122 pm 0.06541912839289482\n",
      "zo average 0.8447349434191539 pm 0.09588814916794659\n",
      "no average 0.5 pm 0.0\n",
      "dizo average 0.8540039263394339 pm 0.04503478097277542\n",
      "zo average 0.8520772794510743 pm 0.040221847959191995\n",
      "no average 0.5 pm 0.0\n"
     ]
    }
   ],
   "source": [
    "for task in [\"direction\"]:\n",
    "    print(task)\n",
    "    for ds in [\"cora_ml/\", \"citeseer/\", \"telegram/\", \"webkb/cornell\", \"webkb/texas\", \"webkb/wisconsin\"]:\n",
    "        for label in [\"dizo\", \"zo\", \"no\"]:\n",
    "            with open(f\"{ds.replace('/', '_')}.{label}.{task}.test\", \"r\") as f:\n",
    "                print(label, f.readlines()[-1][:-1])"
   ]
  },
  {
   "cell_type": "code",
   "execution_count": 4,
   "metadata": {},
   "outputs": [],
   "source": [
    "import optuna"
   ]
  },
  {
   "cell_type": "code",
   "execution_count": 9,
   "metadata": {},
   "outputs": [
    {
     "name": "stdout",
     "output_type": "stream",
     "text": [
      "{'batch_size': 128, 'cat_merge': True, 'hid_dim': 24, 'label_fn': 'lin', 'layer': 1, 'layerwise_label': True, 'ln': False, 'lr': 0.001, 'res': False} 0.8184627575277338\n",
      "9\n",
      "{'batch_size': 128, 'cat_merge': True, 'hid_dim': 24, 'label_fn': 'lin', 'layer': 4, 'layerwise_label': True, 'ln': False, 'lr': 0.003, 'res': True} 0.8061571125265393\n",
      "59\n",
      "{'batch_size': 72, 'cat_merge': False, 'hid_dim': 40, 'label_fn': 'lin', 'layer': 4, 'layerwise_label': True, 'ln': True, 'lr': 0.01, 'res': False} 0.9151515151515153\n",
      "60\n",
      "{'batch_size': 24, 'cat_merge': True, 'hid_dim': 64, 'label_fn': 'lin', 'layer': 1, 'layerwise_label': True, 'ln': False, 'lr': 0.003, 'res': False} 0.753448275862069\n",
      "300\n",
      "{'batch_size': 8, 'cat_merge': True, 'hid_dim': 40, 'label_fn': 'emb', 'layer': 2, 'layerwise_label': True, 'ln': False, 'lr': 0.003, 'res': True} 0.80625\n",
      "300\n",
      "{'batch_size': 64, 'cat_merge': True, 'hid_dim': 24, 'label_fn': 'lin', 'layer': 4, 'layerwise_label': True, 'ln': False, 'lr': 0.003, 'res': False} 0.7843137254901961\n",
      "300\n"
     ]
    }
   ],
   "source": [
    "for task in [\"existence\"]:#, \"direction\"\n",
    "    for ds in [\"cora_ml/\", \"citeseer/\", \"telegram/\", \"webkb/cornell\", \"webkb/texas\", \"webkb/wisconsin\"]:\n",
    "        stu = optuna.load_study(study_name=ds.replace('/', '.'), storage=f\"sqlite:///{ds.replace('/', '.')}_{task}.db\", )\n",
    "        print(stu.best_params, stu.best_value)\n",
    "        print(len(stu.get_trials()))"
   ]
  },
  {
   "cell_type": "code",
   "execution_count": 4,
   "metadata": {},
   "outputs": [],
   "source": [
    "import optuna"
   ]
  },
  {
   "cell_type": "code",
   "execution_count": 5,
   "metadata": {},
   "outputs": [
    {
     "name": "stdout",
     "output_type": "stream",
     "text": [
      "{'batch_size': 24, 'cat_merge': True, 'hid_dim': 64, 'label_fn': 'lin', 'layer': 1, 'layerwise_label': True, 'ln': False, 'lr': 0.003, 'res': False} 0.753448275862069\n",
      "300\n",
      "{'batch_size': 8, 'cat_merge': True, 'hid_dim': 40, 'label_fn': 'emb', 'layer': 2, 'layerwise_label': True, 'ln': False, 'lr': 0.003, 'res': True} 0.80625\n",
      "300\n",
      "{'batch_size': 64, 'cat_merge': True, 'hid_dim': 24, 'label_fn': 'lin', 'layer': 4, 'layerwise_label': True, 'ln': False, 'lr': 0.003, 'res': False} 0.7843137254901961\n",
      "300\n"
     ]
    }
   ],
   "source": [
    "for task in [\"existence\"]:#, \"direction\"\n",
    "    for ds in [\"webkb/cornell\"]:\n",
    "        stu = optuna.load_study(study_name=ds.replace('/', '.'), storage=f\"sqlite:///{ds.replace('/', '.')}_{task}.db\", )\n",
    "        df = stu.trials_dataframe()"
   ]
  },
  {
   "cell_type": "code",
   "execution_count": 2,
   "metadata": {},
   "outputs": [
    {
     "name": "stdout",
     "output_type": "stream",
     "text": [
      "existence\n",
      "69.2±3\n",
      "79.3±6\n",
      "75.9±4\n",
      "83.0±1\n",
      "77.9±1\n",
      "90.1±1\n"
     ]
    }
   ],
   "source": [
    "for task in [\"existence\"]:#, \"direction\"\n",
    "    print(task)\n",
    "    for ds in [\"webkb/cornell\", \"webkb/texas\", \"webkb/wisconsin\", \"cora_ml/\", \"citeseer/\", \"telegram/\"]:\n",
    "        for label in [\"zo\"]:#, \"dizo\", \"zo\", \"no\"]:\n",
    "            with open(f\"{ds.replace('/', '_')}.{label}.{task}.catpred.newtest\", \"r\") as f:\n",
    "                line = f.readlines()[-1][:-1].split()\n",
    "                var, std = float(line[-3]), float(line[-1])\n",
    "                print(f\"{var*100:.1f}±{std*100:.0f}\")"
   ]
  },
  {
   "cell_type": "code",
   "execution_count": 2,
   "metadata": {},
   "outputs": [
    {
     "name": "stdout",
     "output_type": "stream",
     "text": [
      "existence\n",
      "68.5±7\n",
      "77.9±4\n",
      "78.5±4\n"
     ]
    },
    {
     "ename": "FileNotFoundError",
     "evalue": "[Errno 2] No such file or directory: 'cora_ml_.onehead.existence.newtest'",
     "output_type": "error",
     "traceback": [
      "\u001b[0;31m---------------------------------------------------------------------------\u001b[0m",
      "\u001b[0;31mFileNotFoundError\u001b[0m                         Traceback (most recent call last)",
      "\u001b[1;32m/home/wxy/PlabelingTrick/PlabelDirected/debug.ipynb Cell 4\u001b[0m in \u001b[0;36m<cell line: 1>\u001b[0;34m()\u001b[0m\n\u001b[1;32m      <a href='vscode-notebook-cell://ssh-remote%2B3090/home/wxy/PlabelingTrick/PlabelDirected/debug.ipynb#W3sdnNjb2RlLXJlbW90ZQ%3D%3D?line=2'>3</a>\u001b[0m \u001b[39mfor\u001b[39;00m ds \u001b[39min\u001b[39;00m [\u001b[39m\"\u001b[39m\u001b[39mwebkb/cornell\u001b[39m\u001b[39m\"\u001b[39m, \u001b[39m\"\u001b[39m\u001b[39mwebkb/texas\u001b[39m\u001b[39m\"\u001b[39m, \u001b[39m\"\u001b[39m\u001b[39mwebkb/wisconsin\u001b[39m\u001b[39m\"\u001b[39m, \u001b[39m\"\u001b[39m\u001b[39mcora_ml/\u001b[39m\u001b[39m\"\u001b[39m, \u001b[39m\"\u001b[39m\u001b[39mciteseer/\u001b[39m\u001b[39m\"\u001b[39m, \u001b[39m\"\u001b[39m\u001b[39mtelegram/\u001b[39m\u001b[39m\"\u001b[39m]:\n\u001b[1;32m      <a href='vscode-notebook-cell://ssh-remote%2B3090/home/wxy/PlabelingTrick/PlabelDirected/debug.ipynb#W3sdnNjb2RlLXJlbW90ZQ%3D%3D?line=3'>4</a>\u001b[0m     \u001b[39mfor\u001b[39;00m label \u001b[39min\u001b[39;00m [\u001b[39m\"\u001b[39m\u001b[39monehead\u001b[39m\u001b[39m\"\u001b[39m]:\u001b[39m#, \"dizo\", \"zo\", \"no\"]:\u001b[39;00m\n\u001b[0;32m----> <a href='vscode-notebook-cell://ssh-remote%2B3090/home/wxy/PlabelingTrick/PlabelDirected/debug.ipynb#W3sdnNjb2RlLXJlbW90ZQ%3D%3D?line=4'>5</a>\u001b[0m         \u001b[39mwith\u001b[39;00m \u001b[39mopen\u001b[39;49m(\u001b[39mf\u001b[39;49m\u001b[39m\"\u001b[39;49m\u001b[39m{\u001b[39;49;00mds\u001b[39m.\u001b[39;49mreplace(\u001b[39m'\u001b[39;49m\u001b[39m/\u001b[39;49m\u001b[39m'\u001b[39;49m, \u001b[39m'\u001b[39;49m\u001b[39m_\u001b[39;49m\u001b[39m'\u001b[39;49m)\u001b[39m}\u001b[39;49;00m\u001b[39m.\u001b[39;49m\u001b[39m{\u001b[39;49;00mlabel\u001b[39m}\u001b[39;49;00m\u001b[39m.\u001b[39;49m\u001b[39m{\u001b[39;49;00mtask\u001b[39m}\u001b[39;49;00m\u001b[39m.newtest\u001b[39;49m\u001b[39m\"\u001b[39;49m, \u001b[39m\"\u001b[39;49m\u001b[39mr\u001b[39;49m\u001b[39m\"\u001b[39;49m) \u001b[39mas\u001b[39;00m f:\n\u001b[1;32m      <a href='vscode-notebook-cell://ssh-remote%2B3090/home/wxy/PlabelingTrick/PlabelDirected/debug.ipynb#W3sdnNjb2RlLXJlbW90ZQ%3D%3D?line=5'>6</a>\u001b[0m             line \u001b[39m=\u001b[39m f\u001b[39m.\u001b[39mreadlines()[\u001b[39m-\u001b[39m\u001b[39m1\u001b[39m][:\u001b[39m-\u001b[39m\u001b[39m1\u001b[39m]\u001b[39m.\u001b[39msplit()\n\u001b[1;32m      <a href='vscode-notebook-cell://ssh-remote%2B3090/home/wxy/PlabelingTrick/PlabelDirected/debug.ipynb#W3sdnNjb2RlLXJlbW90ZQ%3D%3D?line=6'>7</a>\u001b[0m             var, std \u001b[39m=\u001b[39m \u001b[39mfloat\u001b[39m(line[\u001b[39m-\u001b[39m\u001b[39m3\u001b[39m]), \u001b[39mfloat\u001b[39m(line[\u001b[39m-\u001b[39m\u001b[39m1\u001b[39m])\n",
      "\u001b[0;31mFileNotFoundError\u001b[0m: [Errno 2] No such file or directory: 'cora_ml_.onehead.existence.newtest'"
     ]
    }
   ],
   "source": [
    "for task in [\"existence\"]:#, \"direction\"\n",
    "    print(task)\n",
    "    for ds in [\"webkb/cornell\", \"webkb/texas\", \"webkb/wisconsin\", \"cora_ml/\", \"citeseer/\", \"telegram/\"]:\n",
    "        for label in [\"onehead\"]:#, \"dizo\", \"zo\", \"no\"]:\n",
    "            with open(f\"{ds.replace('/', '_')}.{label}.{task}.newtest\", \"r\") as f:\n",
    "                line = f.readlines()[-1][:-1].split()\n",
    "                var, std = float(line[-3]), float(line[-1])\n",
    "                print(f\"{var*100:.1f}±{std*100:.0f}\")\n",
    "\n",
    "    "
   ]
  },
  {
   "cell_type": "code",
   "execution_count": 4,
   "metadata": {},
   "outputs": [
    {
     "name": "stdout",
     "output_type": "stream",
     "text": [
      "dizo average 0.8837693222354341 pm 0.0107583707316961\n",
      "zo average 0.8800237812128419 pm 0.010123788278826772\n"
     ]
    },
    {
     "ename": "FileNotFoundError",
     "evalue": "[Errno 2] No such file or directory: 'cora_ml_.no.multpred.layerwiselabel.test'",
     "output_type": "error",
     "traceback": [
      "\u001b[0;31m---------------------------------------------------------------------------\u001b[0m",
      "\u001b[0;31mFileNotFoundError\u001b[0m                         Traceback (most recent call last)",
      "\u001b[1;32m/home/wxy/PlabelingTrick/PlabelDirected/debug.ipynb Cell 2\u001b[0m in \u001b[0;36m<cell line: 1>\u001b[0;34m()\u001b[0m\n\u001b[1;32m      <a href='vscode-notebook-cell://ssh-remote%2B162.105.19.59/home/wxy/PlabelingTrick/PlabelDirected/debug.ipynb#X44sdnNjb2RlLXJlbW90ZQ%3D%3D?line=0'>1</a>\u001b[0m \u001b[39mfor\u001b[39;00m ds \u001b[39min\u001b[39;00m [\u001b[39m\"\u001b[39m\u001b[39mcora_ml/\u001b[39m\u001b[39m\"\u001b[39m, \u001b[39m\"\u001b[39m\u001b[39mciteseer/\u001b[39m\u001b[39m\"\u001b[39m, \u001b[39m\"\u001b[39m\u001b[39mtelegram/\u001b[39m\u001b[39m\"\u001b[39m, \u001b[39m\"\u001b[39m\u001b[39mwebkb/cornell\u001b[39m\u001b[39m\"\u001b[39m, \u001b[39m\"\u001b[39m\u001b[39mwebkb/texas\u001b[39m\u001b[39m\"\u001b[39m, \u001b[39m\"\u001b[39m\u001b[39mwebkb/wisconsin\u001b[39m\u001b[39m\"\u001b[39m]:\n\u001b[1;32m      <a href='vscode-notebook-cell://ssh-remote%2B162.105.19.59/home/wxy/PlabelingTrick/PlabelDirected/debug.ipynb#X44sdnNjb2RlLXJlbW90ZQ%3D%3D?line=1'>2</a>\u001b[0m     \u001b[39mfor\u001b[39;00m label \u001b[39min\u001b[39;00m [\u001b[39m\"\u001b[39m\u001b[39mdizo\u001b[39m\u001b[39m\"\u001b[39m, \u001b[39m\"\u001b[39m\u001b[39mzo\u001b[39m\u001b[39m\"\u001b[39m, \u001b[39m\"\u001b[39m\u001b[39mno\u001b[39m\u001b[39m\"\u001b[39m]:\n\u001b[0;32m----> <a href='vscode-notebook-cell://ssh-remote%2B162.105.19.59/home/wxy/PlabelingTrick/PlabelDirected/debug.ipynb#X44sdnNjb2RlLXJlbW90ZQ%3D%3D?line=2'>3</a>\u001b[0m         \u001b[39mwith\u001b[39;00m \u001b[39mopen\u001b[39;49m(\u001b[39mf\u001b[39;49m\u001b[39m\"\u001b[39;49m\u001b[39m{\u001b[39;49;00mds\u001b[39m.\u001b[39;49mreplace(\u001b[39m'\u001b[39;49m\u001b[39m/\u001b[39;49m\u001b[39m'\u001b[39;49m, \u001b[39m'\u001b[39;49m\u001b[39m_\u001b[39;49m\u001b[39m'\u001b[39;49m)\u001b[39m}\u001b[39;49;00m\u001b[39m.\u001b[39;49m\u001b[39m{\u001b[39;49;00mlabel\u001b[39m}\u001b[39;49;00m\u001b[39m.multpred.layerwiselabel.test\u001b[39;49m\u001b[39m\"\u001b[39;49m, \u001b[39m\"\u001b[39;49m\u001b[39mr\u001b[39;49m\u001b[39m\"\u001b[39;49m) \u001b[39mas\u001b[39;00m f:\n\u001b[1;32m      <a href='vscode-notebook-cell://ssh-remote%2B162.105.19.59/home/wxy/PlabelingTrick/PlabelDirected/debug.ipynb#X44sdnNjb2RlLXJlbW90ZQ%3D%3D?line=3'>4</a>\u001b[0m             \u001b[39mprint\u001b[39m(label, f\u001b[39m.\u001b[39mreadlines()[\u001b[39m-\u001b[39m\u001b[39m1\u001b[39m][:\u001b[39m-\u001b[39m\u001b[39m1\u001b[39m])\n",
      "\u001b[0;31mFileNotFoundError\u001b[0m: [Errno 2] No such file or directory: 'cora_ml_.no.multpred.layerwiselabel.test'"
     ]
    }
   ],
   "source": [
    "for ds in [\"cora_ml/\", \"citeseer/\", \"telegram/\", \"webkb/cornell\", \"webkb/texas\", \"webkb/wisconsin\"]:\n",
    "    for label in [\"dizo\", \"zo\", \"no\"]:\n",
    "        with open(f\"{ds.replace('/', '_')}.{label}.multpred.layerwiselabel.test\", \"r\") as f:\n",
    "            print(label, f.readlines()[-1][:-1])"
   ]
  },
  {
   "cell_type": "code",
   "execution_count": 3,
   "metadata": {},
   "outputs": [
    {
     "name": "stdout",
     "output_type": "stream",
     "text": [
      "dizo average 0.8817479191438762 pm 0.00864607357972823\n",
      "zo average 0.8866825208085611 pm 0.009816774050202278\n",
      "no average 0.804756242568371 pm 0.010800834158733381\n",
      "dizo average 0.7940552016985138 pm 0.010314189215703708\n",
      "zo average 0.8063694267515924 pm 0.01002833603279791\n",
      "no average 0.7466029723991507 pm 0.01605080095186245\n",
      "dizo average 0.9019640852974187 pm 0.010682979294135298\n",
      "zo average 0.9004489337822671 pm 0.004957365392897381\n",
      "no average 0.8576318742985409 pm 0.011335161286247552\n",
      "dizo average 0.6913793103448276 pm 0.07333162178667842\n",
      "zo average 0.696551724137931 pm 0.07075270527132134\n",
      "no average 0.7034482758620689 pm 0.03761624867115764\n",
      "dizo average 0.7828125 pm 0.0657179401400409\n",
      "zo average 0.8171875 pm 0.05721822944875173\n",
      "no average 0.7328125 pm 0.0433294519495689\n",
      "dizo average 0.7529411764705882 pm 0.04154827470670017\n",
      "zo average 0.8009803921568629 pm 0.04902941078450974\n",
      "no average 0.7480392156862745 pm 0.04961404285835292\n"
     ]
    }
   ],
   "source": [
    "for ds in [\"cora_ml/\", \"citeseer/\", \"telegram/\", \"webkb/cornell\", \"webkb/texas\", \"webkb/wisconsin\"]:\n",
    "    for label in [\"dizo\", \"zo\", \"no\"]:\n",
    "        with open(f\"{ds.replace('/', '_')}.{label}.multpred.test\", \"r\") as f:\n",
    "            print(label, f.readlines()[-1][:-1])"
   ]
  },
  {
   "cell_type": "code",
   "execution_count": 5,
   "metadata": {},
   "outputs": [],
   "source": [
    "import optuna\n",
    "import optuna.visualization.matplotlib as oplot"
   ]
  },
  {
   "cell_type": "code",
   "execution_count": 2,
   "metadata": {},
   "outputs": [],
   "source": [
    "stu = optuna.load_study(\"citeseer.\", \"sqlite:///citeseer..db\")"
   ]
  },
  {
   "cell_type": "code",
   "execution_count": 14,
   "metadata": {},
   "outputs": [
    {
     "name": "stderr",
     "output_type": "stream",
     "text": [
      "/tmp/ipykernel_394384/1279523480.py:1: ExperimentalWarning: plot_param_importances is experimental (supported from v2.2.0). The interface can change in the future.\n",
      "  oplot.plot_param_importances(stu)\n"
     ]
    },
    {
     "data": {
      "text/plain": [
       "<AxesSubplot:title={'center':'Hyperparameter Importances'}, xlabel='Importance for Objective Value', ylabel='Hyperparameter'>"
      ]
     },
     "execution_count": 14,
     "metadata": {},
     "output_type": "execute_result"
    },
    {
     "data": {
      "image/png": "[encoded data removed]",
      "text/plain": [
       "<Figure size 432x288 with 1 Axes>"
      ]
     },
     "metadata": {},
     "output_type": "display_data"
    }
   ],
   "source": [
    "oplot.plot_param_importances(stu)"
   ]
  },
  {
   "cell_type": "code",
   "execution_count": 9,
   "metadata": {},
   "outputs": [],
   "source": [
    "df = stu.trials_dataframe()"
   ]
  },
  {
   "cell_type": "code",
   "execution_count": 12,
   "metadata": {},
   "outputs": [],
   "source": [
    "df.sort_values(by=\"value\", ascending=False, inplace=True)"
   ]
  },
  {
   "cell_type": "code",
   "execution_count": 15,
   "metadata": {},
   "outputs": [
    {
     "data": {
      "text/plain": [
       "{'batch_size': 8,\n",
       " 'cat_merge': False,\n",
       " 'hid_dim': 56,\n",
       " 'label_fn': 'lin',\n",
       " 'layer': 3,\n",
       " 'layerwise_label': False,\n",
       " 'ln': True,\n",
       " 'lr': 0.003,\n",
       " 'res': False}"
      ]
     },
     "execution_count": 15,
     "metadata": {},
     "output_type": "execute_result"
    }
   ],
   "source": [
    "stu.best_params"
   ]
  },
  {
   "cell_type": "code",
   "execution_count": null,
   "metadata": {},
   "outputs": [],
   "source": [
    "{'batch_size': 48,\n",
    " 'cat_merge': True,\n",
    " 'hid_dim': 32,\n",
    " 'label_fn': 'lin',\n",
    " 'layer': 3,\n",
    " 'layerwise_label': False,\n",
    " 'ln': True,\n",
    " 'lr': 0.003,\n",
    " 'res': False}"
   ]
  },
  {
   "cell_type": "code",
   "execution_count": 13,
   "metadata": {},
   "outputs": [
    {
     "data": {
      "text/html": [
       "<div>\n",
       "<style scoped>\n",
       "    .dataframe tbody tr th:only-of-type {\n",
       "        vertical-align: middle;\n",
       "    }\n",
       "\n",
       "    .dataframe tbody tr th {\n",
       "        vertical-align: top;\n",
       "    }\n",
       "\n",
       "    .dataframe thead th {\n",
       "        text-align: right;\n",
       "    }\n",
       "</style>\n",
       "<table border=\"1\" class=\"dataframe\">\n",
       "  <thead>\n",
       "    <tr style=\"text-align: right;\">\n",
       "      <th></th>\n",
       "      <th>number</th>\n",
       "      <th>value</th>\n",
       "      <th>datetime_start</th>\n",
       "      <th>datetime_complete</th>\n",
       "      <th>duration</th>\n",
       "      <th>params_batch_size</th>\n",
       "      <th>params_cat_merge</th>\n",
       "      <th>params_hid_dim</th>\n",
       "      <th>params_label_fn</th>\n",
       "      <th>params_layer</th>\n",
       "      <th>params_layerwise_label</th>\n",
       "      <th>params_ln</th>\n",
       "      <th>params_lr</th>\n",
       "      <th>params_res</th>\n",
       "      <th>state</th>\n",
       "    </tr>\n",
       "  </thead>\n",
       "  <tbody>\n",
       "    <tr>\n",
       "      <th>15</th>\n",
       "      <td>15</td>\n",
       "      <td>0.812739</td>\n",
       "      <td>2022-09-23 05:29:17.121053</td>\n",
       "      <td>2022-09-23 06:34:04.712034</td>\n",
       "      <td>0 days 01:04:47.590981</td>\n",
       "      <td>8</td>\n",
       "      <td>False</td>\n",
       "      <td>56</td>\n",
       "      <td>lin</td>\n",
       "      <td>3</td>\n",
       "      <td>False</td>\n",
       "      <td>True</td>\n",
       "      <td>0.0030</td>\n",
       "      <td>False</td>\n",
       "      <td>COMPLETE</td>\n",
       "    </tr>\n",
       "    <tr>\n",
       "      <th>0</th>\n",
       "      <td>0</td>\n",
       "      <td>0.807006</td>\n",
       "      <td>2022-09-23 01:41:28.983248</td>\n",
       "      <td>2022-09-23 02:22:23.505933</td>\n",
       "      <td>0 days 00:40:54.522685</td>\n",
       "      <td>16</td>\n",
       "      <td>True</td>\n",
       "      <td>16</td>\n",
       "      <td>lin</td>\n",
       "      <td>3</td>\n",
       "      <td>False</td>\n",
       "      <td>True</td>\n",
       "      <td>0.0030</td>\n",
       "      <td>True</td>\n",
       "      <td>COMPLETE</td>\n",
       "    </tr>\n",
       "    <tr>\n",
       "      <th>28</th>\n",
       "      <td>28</td>\n",
       "      <td>0.806369</td>\n",
       "      <td>2022-09-23 10:01:14.407202</td>\n",
       "      <td>2022-09-23 10:50:44.616467</td>\n",
       "      <td>0 days 00:49:30.209265</td>\n",
       "      <td>40</td>\n",
       "      <td>True</td>\n",
       "      <td>48</td>\n",
       "      <td>lin</td>\n",
       "      <td>3</td>\n",
       "      <td>False</td>\n",
       "      <td>True</td>\n",
       "      <td>0.0030</td>\n",
       "      <td>True</td>\n",
       "      <td>COMPLETE</td>\n",
       "    </tr>\n",
       "    <tr>\n",
       "      <th>23</th>\n",
       "      <td>23</td>\n",
       "      <td>0.804034</td>\n",
       "      <td>2022-09-23 08:10:55.857690</td>\n",
       "      <td>2022-09-23 09:00:44.246054</td>\n",
       "      <td>0 days 00:49:48.388364</td>\n",
       "      <td>48</td>\n",
       "      <td>True</td>\n",
       "      <td>32</td>\n",
       "      <td>lin</td>\n",
       "      <td>4</td>\n",
       "      <td>False</td>\n",
       "      <td>True</td>\n",
       "      <td>0.0030</td>\n",
       "      <td>False</td>\n",
       "      <td>COMPLETE</td>\n",
       "    </tr>\n",
       "    <tr>\n",
       "      <th>21</th>\n",
       "      <td>21</td>\n",
       "      <td>0.803928</td>\n",
       "      <td>2022-09-23 07:21:25.319066</td>\n",
       "      <td>2022-09-23 08:10:55.804914</td>\n",
       "      <td>0 days 00:49:30.485848</td>\n",
       "      <td>48</td>\n",
       "      <td>True</td>\n",
       "      <td>32</td>\n",
       "      <td>lin</td>\n",
       "      <td>4</td>\n",
       "      <td>False</td>\n",
       "      <td>True</td>\n",
       "      <td>0.0030</td>\n",
       "      <td>False</td>\n",
       "      <td>COMPLETE</td>\n",
       "    </tr>\n",
       "    <tr>\n",
       "      <th>14</th>\n",
       "      <td>14</td>\n",
       "      <td>0.802123</td>\n",
       "      <td>2022-09-23 04:48:13.046438</td>\n",
       "      <td>2022-09-23 05:54:19.416703</td>\n",
       "      <td>0 days 01:06:06.370265</td>\n",
       "      <td>8</td>\n",
       "      <td>False</td>\n",
       "      <td>64</td>\n",
       "      <td>lin</td>\n",
       "      <td>3</td>\n",
       "      <td>False</td>\n",
       "      <td>True</td>\n",
       "      <td>0.0030</td>\n",
       "      <td>False</td>\n",
       "      <td>COMPLETE</td>\n",
       "    </tr>\n",
       "    <tr>\n",
       "      <th>34</th>\n",
       "      <td>34</td>\n",
       "      <td>0.801062</td>\n",
       "      <td>2022-09-23 11:55:53.532338</td>\n",
       "      <td>2022-09-23 12:53:03.638604</td>\n",
       "      <td>0 days 00:57:10.106266</td>\n",
       "      <td>56</td>\n",
       "      <td>True</td>\n",
       "      <td>64</td>\n",
       "      <td>lin</td>\n",
       "      <td>3</td>\n",
       "      <td>False</td>\n",
       "      <td>True</td>\n",
       "      <td>0.0030</td>\n",
       "      <td>True</td>\n",
       "      <td>COMPLETE</td>\n",
       "    </tr>\n",
       "    <tr>\n",
       "      <th>25</th>\n",
       "      <td>25</td>\n",
       "      <td>0.800212</td>\n",
       "      <td>2022-09-23 09:00:44.311671</td>\n",
       "      <td>2022-09-23 10:01:14.347317</td>\n",
       "      <td>0 days 01:00:30.035646</td>\n",
       "      <td>16</td>\n",
       "      <td>True</td>\n",
       "      <td>32</td>\n",
       "      <td>lin</td>\n",
       "      <td>4</td>\n",
       "      <td>False</td>\n",
       "      <td>True</td>\n",
       "      <td>0.0030</td>\n",
       "      <td>False</td>\n",
       "      <td>COMPLETE</td>\n",
       "    </tr>\n",
       "    <tr>\n",
       "      <th>12</th>\n",
       "      <td>12</td>\n",
       "      <td>0.800212</td>\n",
       "      <td>2022-09-23 03:44:10.772303</td>\n",
       "      <td>2022-09-23 04:48:12.988332</td>\n",
       "      <td>0 days 01:04:02.216029</td>\n",
       "      <td>8</td>\n",
       "      <td>False</td>\n",
       "      <td>56</td>\n",
       "      <td>lin</td>\n",
       "      <td>3</td>\n",
       "      <td>False</td>\n",
       "      <td>True</td>\n",
       "      <td>0.0030</td>\n",
       "      <td>False</td>\n",
       "      <td>COMPLETE</td>\n",
       "    </tr>\n",
       "    <tr>\n",
       "      <th>10</th>\n",
       "      <td>10</td>\n",
       "      <td>0.798620</td>\n",
       "      <td>2022-09-23 03:19:14.077578</td>\n",
       "      <td>2022-09-23 04:12:21.370186</td>\n",
       "      <td>0 days 00:53:07.292608</td>\n",
       "      <td>128</td>\n",
       "      <td>True</td>\n",
       "      <td>40</td>\n",
       "      <td>emb</td>\n",
       "      <td>4</td>\n",
       "      <td>True</td>\n",
       "      <td>True</td>\n",
       "      <td>0.0003</td>\n",
       "      <td>False</td>\n",
       "      <td>COMPLETE</td>\n",
       "    </tr>\n",
       "    <tr>\n",
       "      <th>24</th>\n",
       "      <td>24</td>\n",
       "      <td>0.797983</td>\n",
       "      <td>2022-09-23 08:18:26.411398</td>\n",
       "      <td>2022-09-23 09:18:33.691833</td>\n",
       "      <td>0 days 01:00:07.280435</td>\n",
       "      <td>16</td>\n",
       "      <td>True</td>\n",
       "      <td>32</td>\n",
       "      <td>lin</td>\n",
       "      <td>4</td>\n",
       "      <td>False</td>\n",
       "      <td>True</td>\n",
       "      <td>0.0030</td>\n",
       "      <td>False</td>\n",
       "      <td>COMPLETE</td>\n",
       "    </tr>\n",
       "    <tr>\n",
       "      <th>22</th>\n",
       "      <td>22</td>\n",
       "      <td>0.797665</td>\n",
       "      <td>2022-09-23 07:56:00.856558</td>\n",
       "      <td>2022-09-23 08:18:26.359836</td>\n",
       "      <td>0 days 00:22:25.503278</td>\n",
       "      <td>48</td>\n",
       "      <td>False</td>\n",
       "      <td>8</td>\n",
       "      <td>lin</td>\n",
       "      <td>3</td>\n",
       "      <td>False</td>\n",
       "      <td>True</td>\n",
       "      <td>0.0030</td>\n",
       "      <td>False</td>\n",
       "      <td>COMPLETE</td>\n",
       "    </tr>\n",
       "    <tr>\n",
       "      <th>27</th>\n",
       "      <td>27</td>\n",
       "      <td>0.796497</td>\n",
       "      <td>2022-09-23 09:52:49.323027</td>\n",
       "      <td>2022-09-23 10:37:11.864359</td>\n",
       "      <td>0 days 00:44:22.541332</td>\n",
       "      <td>72</td>\n",
       "      <td>True</td>\n",
       "      <td>48</td>\n",
       "      <td>lin</td>\n",
       "      <td>3</td>\n",
       "      <td>False</td>\n",
       "      <td>True</td>\n",
       "      <td>0.0030</td>\n",
       "      <td>False</td>\n",
       "      <td>COMPLETE</td>\n",
       "    </tr>\n",
       "    <tr>\n",
       "      <th>33</th>\n",
       "      <td>33</td>\n",
       "      <td>0.794586</td>\n",
       "      <td>2022-09-23 11:43:26.706729</td>\n",
       "      <td>2022-09-23 12:30:47.662130</td>\n",
       "      <td>0 days 00:47:20.955401</td>\n",
       "      <td>56</td>\n",
       "      <td>True</td>\n",
       "      <td>48</td>\n",
       "      <td>lin</td>\n",
       "      <td>3</td>\n",
       "      <td>False</td>\n",
       "      <td>True</td>\n",
       "      <td>0.0030</td>\n",
       "      <td>True</td>\n",
       "      <td>COMPLETE</td>\n",
       "    </tr>\n",
       "    <tr>\n",
       "      <th>32</th>\n",
       "      <td>32</td>\n",
       "      <td>0.793843</td>\n",
       "      <td>2022-09-23 11:22:09.747151</td>\n",
       "      <td>2022-09-23 11:55:53.458653</td>\n",
       "      <td>0 days 00:33:43.711502</td>\n",
       "      <td>16</td>\n",
       "      <td>False</td>\n",
       "      <td>48</td>\n",
       "      <td>lin</td>\n",
       "      <td>2</td>\n",
       "      <td>False</td>\n",
       "      <td>True</td>\n",
       "      <td>0.0100</td>\n",
       "      <td>True</td>\n",
       "      <td>COMPLETE</td>\n",
       "    </tr>\n",
       "    <tr>\n",
       "      <th>3</th>\n",
       "      <td>3</td>\n",
       "      <td>0.792144</td>\n",
       "      <td>2022-09-23 01:53:26.329694</td>\n",
       "      <td>2022-09-23 02:06:24.818179</td>\n",
       "      <td>0 days 00:12:58.488485</td>\n",
       "      <td>56</td>\n",
       "      <td>True</td>\n",
       "      <td>16</td>\n",
       "      <td>emb</td>\n",
       "      <td>3</td>\n",
       "      <td>False</td>\n",
       "      <td>False</td>\n",
       "      <td>0.0030</td>\n",
       "      <td>True</td>\n",
       "      <td>COMPLETE</td>\n",
       "    </tr>\n",
       "    <tr>\n",
       "      <th>29</th>\n",
       "      <td>29</td>\n",
       "      <td>0.791720</td>\n",
       "      <td>2022-09-23 10:37:11.929688</td>\n",
       "      <td>2022-09-23 11:18:38.635042</td>\n",
       "      <td>0 days 00:41:26.705354</td>\n",
       "      <td>40</td>\n",
       "      <td>True</td>\n",
       "      <td>56</td>\n",
       "      <td>lin</td>\n",
       "      <td>3</td>\n",
       "      <td>True</td>\n",
       "      <td>False</td>\n",
       "      <td>0.0030</td>\n",
       "      <td>True</td>\n",
       "      <td>COMPLETE</td>\n",
       "    </tr>\n",
       "    <tr>\n",
       "      <th>9</th>\n",
       "      <td>9</td>\n",
       "      <td>0.791295</td>\n",
       "      <td>2022-09-23 02:51:12.513783</td>\n",
       "      <td>2022-09-23 03:19:14.034458</td>\n",
       "      <td>0 days 00:28:01.520675</td>\n",
       "      <td>96</td>\n",
       "      <td>True</td>\n",
       "      <td>40</td>\n",
       "      <td>emb</td>\n",
       "      <td>2</td>\n",
       "      <td>True</td>\n",
       "      <td>True</td>\n",
       "      <td>0.0003</td>\n",
       "      <td>False</td>\n",
       "      <td>COMPLETE</td>\n",
       "    </tr>\n",
       "    <tr>\n",
       "      <th>6</th>\n",
       "      <td>6</td>\n",
       "      <td>0.791189</td>\n",
       "      <td>2022-09-23 02:28:05.189171</td>\n",
       "      <td>2022-09-23 03:22:24.695624</td>\n",
       "      <td>0 days 00:54:19.506453</td>\n",
       "      <td>96</td>\n",
       "      <td>True</td>\n",
       "      <td>40</td>\n",
       "      <td>emb</td>\n",
       "      <td>4</td>\n",
       "      <td>False</td>\n",
       "      <td>True</td>\n",
       "      <td>0.0100</td>\n",
       "      <td>True</td>\n",
       "      <td>COMPLETE</td>\n",
       "    </tr>\n",
       "    <tr>\n",
       "      <th>13</th>\n",
       "      <td>13</td>\n",
       "      <td>0.789809</td>\n",
       "      <td>2022-09-23 04:12:21.423593</td>\n",
       "      <td>2022-09-23 05:29:17.070031</td>\n",
       "      <td>0 days 01:16:55.646438</td>\n",
       "      <td>8</td>\n",
       "      <td>False</td>\n",
       "      <td>56</td>\n",
       "      <td>lin</td>\n",
       "      <td>3</td>\n",
       "      <td>True</td>\n",
       "      <td>True</td>\n",
       "      <td>0.0003</td>\n",
       "      <td>False</td>\n",
       "      <td>COMPLETE</td>\n",
       "    </tr>\n",
       "    <tr>\n",
       "      <th>26</th>\n",
       "      <td>26</td>\n",
       "      <td>0.789384</td>\n",
       "      <td>2022-09-23 09:18:33.746474</td>\n",
       "      <td>2022-09-23 09:52:49.265759</td>\n",
       "      <td>0 days 00:34:15.519285</td>\n",
       "      <td>24</td>\n",
       "      <td>True</td>\n",
       "      <td>16</td>\n",
       "      <td>lin</td>\n",
       "      <td>3</td>\n",
       "      <td>False</td>\n",
       "      <td>True</td>\n",
       "      <td>0.0030</td>\n",
       "      <td>False</td>\n",
       "      <td>COMPLETE</td>\n",
       "    </tr>\n",
       "    <tr>\n",
       "      <th>20</th>\n",
       "      <td>20</td>\n",
       "      <td>0.788429</td>\n",
       "      <td>2022-09-23 07:13:55.750109</td>\n",
       "      <td>2022-09-23 07:56:00.804260</td>\n",
       "      <td>0 days 00:42:05.054151</td>\n",
       "      <td>64</td>\n",
       "      <td>True</td>\n",
       "      <td>24</td>\n",
       "      <td>lin</td>\n",
       "      <td>4</td>\n",
       "      <td>False</td>\n",
       "      <td>True</td>\n",
       "      <td>0.0010</td>\n",
       "      <td>False</td>\n",
       "      <td>COMPLETE</td>\n",
       "    </tr>\n",
       "    <tr>\n",
       "      <th>19</th>\n",
       "      <td>19</td>\n",
       "      <td>0.787155</td>\n",
       "      <td>2022-09-23 07:02:45.450521</td>\n",
       "      <td>2022-09-23 07:21:25.262534</td>\n",
       "      <td>0 days 00:18:39.812013</td>\n",
       "      <td>72</td>\n",
       "      <td>False</td>\n",
       "      <td>24</td>\n",
       "      <td>lin</td>\n",
       "      <td>2</td>\n",
       "      <td>False</td>\n",
       "      <td>True</td>\n",
       "      <td>0.0010</td>\n",
       "      <td>False</td>\n",
       "      <td>COMPLETE</td>\n",
       "    </tr>\n",
       "    <tr>\n",
       "      <th>17</th>\n",
       "      <td>17</td>\n",
       "      <td>0.783864</td>\n",
       "      <td>2022-09-23 06:34:04.764192</td>\n",
       "      <td>2022-09-23 07:02:45.399354</td>\n",
       "      <td>0 days 00:28:40.635162</td>\n",
       "      <td>32</td>\n",
       "      <td>False</td>\n",
       "      <td>48</td>\n",
       "      <td>lin</td>\n",
       "      <td>2</td>\n",
       "      <td>False</td>\n",
       "      <td>True</td>\n",
       "      <td>0.0030</td>\n",
       "      <td>True</td>\n",
       "      <td>COMPLETE</td>\n",
       "    </tr>\n",
       "    <tr>\n",
       "      <th>4</th>\n",
       "      <td>4</td>\n",
       "      <td>0.782059</td>\n",
       "      <td>2022-09-23 02:06:24.866908</td>\n",
       "      <td>2022-09-23 02:28:05.134255</td>\n",
       "      <td>0 days 00:21:40.267347</td>\n",
       "      <td>40</td>\n",
       "      <td>True</td>\n",
       "      <td>40</td>\n",
       "      <td>emb</td>\n",
       "      <td>2</td>\n",
       "      <td>True</td>\n",
       "      <td>False</td>\n",
       "      <td>0.0010</td>\n",
       "      <td>True</td>\n",
       "      <td>COMPLETE</td>\n",
       "    </tr>\n",
       "    <tr>\n",
       "      <th>11</th>\n",
       "      <td>11</td>\n",
       "      <td>0.777919</td>\n",
       "      <td>2022-09-23 03:22:24.749375</td>\n",
       "      <td>2022-09-23 03:44:10.721730</td>\n",
       "      <td>0 days 00:21:45.972355</td>\n",
       "      <td>96</td>\n",
       "      <td>True</td>\n",
       "      <td>24</td>\n",
       "      <td>emb</td>\n",
       "      <td>4</td>\n",
       "      <td>True</td>\n",
       "      <td>False</td>\n",
       "      <td>0.0003</td>\n",
       "      <td>False</td>\n",
       "      <td>COMPLETE</td>\n",
       "    </tr>\n",
       "    <tr>\n",
       "      <th>18</th>\n",
       "      <td>18</td>\n",
       "      <td>0.775584</td>\n",
       "      <td>2022-09-23 06:43:39.958895</td>\n",
       "      <td>2022-09-23 07:13:55.687059</td>\n",
       "      <td>0 days 00:30:15.728164</td>\n",
       "      <td>24</td>\n",
       "      <td>False</td>\n",
       "      <td>48</td>\n",
       "      <td>lin</td>\n",
       "      <td>2</td>\n",
       "      <td>False</td>\n",
       "      <td>True</td>\n",
       "      <td>0.0030</td>\n",
       "      <td>True</td>\n",
       "      <td>COMPLETE</td>\n",
       "    </tr>\n",
       "    <tr>\n",
       "      <th>5</th>\n",
       "      <td>5</td>\n",
       "      <td>0.769851</td>\n",
       "      <td>2022-09-23 02:22:23.575917</td>\n",
       "      <td>2022-09-23 02:32:10.775460</td>\n",
       "      <td>0 days 00:09:47.199543</td>\n",
       "      <td>104</td>\n",
       "      <td>True</td>\n",
       "      <td>16</td>\n",
       "      <td>lin</td>\n",
       "      <td>1</td>\n",
       "      <td>False</td>\n",
       "      <td>True</td>\n",
       "      <td>0.0030</td>\n",
       "      <td>True</td>\n",
       "      <td>COMPLETE</td>\n",
       "    </tr>\n",
       "    <tr>\n",
       "      <th>7</th>\n",
       "      <td>7</td>\n",
       "      <td>0.767516</td>\n",
       "      <td>2022-09-23 02:32:10.830729</td>\n",
       "      <td>2022-09-23 02:43:43.865457</td>\n",
       "      <td>0 days 00:11:33.034728</td>\n",
       "      <td>96</td>\n",
       "      <td>True</td>\n",
       "      <td>24</td>\n",
       "      <td>lin</td>\n",
       "      <td>1</td>\n",
       "      <td>False</td>\n",
       "      <td>True</td>\n",
       "      <td>0.0100</td>\n",
       "      <td>True</td>\n",
       "      <td>COMPLETE</td>\n",
       "    </tr>\n",
       "    <tr>\n",
       "      <th>8</th>\n",
       "      <td>8</td>\n",
       "      <td>0.766242</td>\n",
       "      <td>2022-09-23 02:43:43.923995</td>\n",
       "      <td>2022-09-23 02:51:12.463852</td>\n",
       "      <td>0 days 00:07:28.539857</td>\n",
       "      <td>32</td>\n",
       "      <td>False</td>\n",
       "      <td>8</td>\n",
       "      <td>emb</td>\n",
       "      <td>1</td>\n",
       "      <td>False</td>\n",
       "      <td>False</td>\n",
       "      <td>0.0100</td>\n",
       "      <td>False</td>\n",
       "      <td>COMPLETE</td>\n",
       "    </tr>\n",
       "    <tr>\n",
       "      <th>1</th>\n",
       "      <td>1</td>\n",
       "      <td>0.759660</td>\n",
       "      <td>2022-09-23 01:41:54.514773</td>\n",
       "      <td>2022-09-23 01:53:26.274950</td>\n",
       "      <td>0 days 00:11:31.760177</td>\n",
       "      <td>56</td>\n",
       "      <td>False</td>\n",
       "      <td>64</td>\n",
       "      <td>emb</td>\n",
       "      <td>1</td>\n",
       "      <td>False</td>\n",
       "      <td>False</td>\n",
       "      <td>0.0100</td>\n",
       "      <td>True</td>\n",
       "      <td>COMPLETE</td>\n",
       "    </tr>\n",
       "    <tr>\n",
       "      <th>31</th>\n",
       "      <td>31</td>\n",
       "      <td>0.750425</td>\n",
       "      <td>2022-09-23 11:18:38.697003</td>\n",
       "      <td>2022-09-23 11:43:26.625207</td>\n",
       "      <td>0 days 00:24:47.928204</td>\n",
       "      <td>16</td>\n",
       "      <td>False</td>\n",
       "      <td>56</td>\n",
       "      <td>lin</td>\n",
       "      <td>2</td>\n",
       "      <td>False</td>\n",
       "      <td>False</td>\n",
       "      <td>0.0010</td>\n",
       "      <td>True</td>\n",
       "      <td>COMPLETE</td>\n",
       "    </tr>\n",
       "    <tr>\n",
       "      <th>30</th>\n",
       "      <td>30</td>\n",
       "      <td>0.686624</td>\n",
       "      <td>2022-09-23 10:50:44.680387</td>\n",
       "      <td>2022-09-23 11:22:09.668140</td>\n",
       "      <td>0 days 00:31:24.987753</td>\n",
       "      <td>32</td>\n",
       "      <td>False</td>\n",
       "      <td>56</td>\n",
       "      <td>lin</td>\n",
       "      <td>3</td>\n",
       "      <td>True</td>\n",
       "      <td>False</td>\n",
       "      <td>0.0010</td>\n",
       "      <td>True</td>\n",
       "      <td>COMPLETE</td>\n",
       "    </tr>\n",
       "    <tr>\n",
       "      <th>16</th>\n",
       "      <td>16</td>\n",
       "      <td>0.686093</td>\n",
       "      <td>2022-09-23 05:54:19.467925</td>\n",
       "      <td>2022-09-23 06:43:39.897416</td>\n",
       "      <td>0 days 00:49:20.429491</td>\n",
       "      <td>24</td>\n",
       "      <td>False</td>\n",
       "      <td>64</td>\n",
       "      <td>lin</td>\n",
       "      <td>3</td>\n",
       "      <td>False</td>\n",
       "      <td>True</td>\n",
       "      <td>0.0030</td>\n",
       "      <td>True</td>\n",
       "      <td>COMPLETE</td>\n",
       "    </tr>\n",
       "    <tr>\n",
       "      <th>2</th>\n",
       "      <td>2</td>\n",
       "      <td>NaN</td>\n",
       "      <td>2022-09-23 01:42:00.529576</td>\n",
       "      <td>NaT</td>\n",
       "      <td>NaT</td>\n",
       "      <td>88</td>\n",
       "      <td>False</td>\n",
       "      <td>40</td>\n",
       "      <td>lin</td>\n",
       "      <td>4</td>\n",
       "      <td>True</td>\n",
       "      <td>False</td>\n",
       "      <td>0.0100</td>\n",
       "      <td>False</td>\n",
       "      <td>RUNNING</td>\n",
       "    </tr>\n",
       "    <tr>\n",
       "      <th>35</th>\n",
       "      <td>35</td>\n",
       "      <td>NaN</td>\n",
       "      <td>2022-09-23 12:30:47.731501</td>\n",
       "      <td>NaT</td>\n",
       "      <td>NaT</td>\n",
       "      <td>40</td>\n",
       "      <td>True</td>\n",
       "      <td>64</td>\n",
       "      <td>lin</td>\n",
       "      <td>4</td>\n",
       "      <td>False</td>\n",
       "      <td>True</td>\n",
       "      <td>0.0030</td>\n",
       "      <td>True</td>\n",
       "      <td>RUNNING</td>\n",
       "    </tr>\n",
       "    <tr>\n",
       "      <th>36</th>\n",
       "      <td>36</td>\n",
       "      <td>NaN</td>\n",
       "      <td>2022-09-23 12:53:03.753471</td>\n",
       "      <td>NaT</td>\n",
       "      <td>NaT</td>\n",
       "      <td>40</td>\n",
       "      <td>True</td>\n",
       "      <td>16</td>\n",
       "      <td>lin</td>\n",
       "      <td>4</td>\n",
       "      <td>False</td>\n",
       "      <td>True</td>\n",
       "      <td>0.0030</td>\n",
       "      <td>True</td>\n",
       "      <td>RUNNING</td>\n",
       "    </tr>\n",
       "  </tbody>\n",
       "</table>\n",
       "</div>"
      ],
      "text/plain": [
       "    number     value             datetime_start          datetime_complete  \\\n",
       "15      15  0.812739 2022-09-23 05:29:17.121053 2022-09-23 06:34:04.712034   \n",
       "0        0  0.807006 2022-09-23 01:41:28.983248 2022-09-23 02:22:23.505933   \n",
       "28      28  0.806369 2022-09-23 10:01:14.407202 2022-09-23 10:50:44.616467   \n",
       "23      23  0.804034 2022-09-23 08:10:55.857690 2022-09-23 09:00:44.246054   \n",
       "21      21  0.803928 2022-09-23 07:21:25.319066 2022-09-23 08:10:55.804914   \n",
       "14      14  0.802123 2022-09-23 04:48:13.046438 2022-09-23 05:54:19.416703   \n",
       "34      34  0.801062 2022-09-23 11:55:53.532338 2022-09-23 12:53:03.638604   \n",
       "25      25  0.800212 2022-09-23 09:00:44.311671 2022-09-23 10:01:14.347317   \n",
       "12      12  0.800212 2022-09-23 03:44:10.772303 2022-09-23 04:48:12.988332   \n",
       "10      10  0.798620 2022-09-23 03:19:14.077578 2022-09-23 04:12:21.370186   \n",
       "24      24  0.797983 2022-09-23 08:18:26.411398 2022-09-23 09:18:33.691833   \n",
       "22      22  0.797665 2022-09-23 07:56:00.856558 2022-09-23 08:18:26.359836   \n",
       "27      27  0.796497 2022-09-23 09:52:49.323027 2022-09-23 10:37:11.864359   \n",
       "33      33  0.794586 2022-09-23 11:43:26.706729 2022-09-23 12:30:47.662130   \n",
       "32      32  0.793843 2022-09-23 11:22:09.747151 2022-09-23 11:55:53.458653   \n",
       "3        3  0.792144 2022-09-23 01:53:26.329694 2022-09-23 02:06:24.818179   \n",
       "29      29  0.791720 2022-09-23 10:37:11.929688 2022-09-23 11:18:38.635042   \n",
       "9        9  0.791295 2022-09-23 02:51:12.513783 2022-09-23 03:19:14.034458   \n",
       "6        6  0.791189 2022-09-23 02:28:05.189171 2022-09-23 03:22:24.695624   \n",
       "13      13  0.789809 2022-09-23 04:12:21.423593 2022-09-23 05:29:17.070031   \n",
       "26      26  0.789384 2022-09-23 09:18:33.746474 2022-09-23 09:52:49.265759   \n",
       "20      20  0.788429 2022-09-23 07:13:55.750109 2022-09-23 07:56:00.804260   \n",
       "19      19  0.787155 2022-09-23 07:02:45.450521 2022-09-23 07:21:25.262534   \n",
       "17      17  0.783864 2022-09-23 06:34:04.764192 2022-09-23 07:02:45.399354   \n",
       "4        4  0.782059 2022-09-23 02:06:24.866908 2022-09-23 02:28:05.134255   \n",
       "11      11  0.777919 2022-09-23 03:22:24.749375 2022-09-23 03:44:10.721730   \n",
       "18      18  0.775584 2022-09-23 06:43:39.958895 2022-09-23 07:13:55.687059   \n",
       "5        5  0.769851 2022-09-23 02:22:23.575917 2022-09-23 02:32:10.775460   \n",
       "7        7  0.767516 2022-09-23 02:32:10.830729 2022-09-23 02:43:43.865457   \n",
       "8        8  0.766242 2022-09-23 02:43:43.923995 2022-09-23 02:51:12.463852   \n",
       "1        1  0.759660 2022-09-23 01:41:54.514773 2022-09-23 01:53:26.274950   \n",
       "31      31  0.750425 2022-09-23 11:18:38.697003 2022-09-23 11:43:26.625207   \n",
       "30      30  0.686624 2022-09-23 10:50:44.680387 2022-09-23 11:22:09.668140   \n",
       "16      16  0.686093 2022-09-23 05:54:19.467925 2022-09-23 06:43:39.897416   \n",
       "2        2       NaN 2022-09-23 01:42:00.529576                        NaT   \n",
       "35      35       NaN 2022-09-23 12:30:47.731501                        NaT   \n",
       "36      36       NaN 2022-09-23 12:53:03.753471                        NaT   \n",
       "\n",
       "                 duration  params_batch_size  params_cat_merge  \\\n",
       "15 0 days 01:04:47.590981                  8             False   \n",
       "0  0 days 00:40:54.522685                 16              True   \n",
       "28 0 days 00:49:30.209265                 40              True   \n",
       "23 0 days 00:49:48.388364                 48              True   \n",
       "21 0 days 00:49:30.485848                 48              True   \n",
       "14 0 days 01:06:06.370265                  8             False   \n",
       "34 0 days 00:57:10.106266                 56              True   \n",
       "25 0 days 01:00:30.035646                 16              True   \n",
       "12 0 days 01:04:02.216029                  8             False   \n",
       "10 0 days 00:53:07.292608                128              True   \n",
       "24 0 days 01:00:07.280435                 16              True   \n",
       "22 0 days 00:22:25.503278                 48             False   \n",
       "27 0 days 00:44:22.541332                 72              True   \n",
       "33 0 days 00:47:20.955401                 56              True   \n",
       "32 0 days 00:33:43.711502                 16             False   \n",
       "3  0 days 00:12:58.488485                 56              True   \n",
       "29 0 days 00:41:26.705354                 40              True   \n",
       "9  0 days 00:28:01.520675                 96              True   \n",
       "6  0 days 00:54:19.506453                 96              True   \n",
       "13 0 days 01:16:55.646438                  8             False   \n",
       "26 0 days 00:34:15.519285                 24              True   \n",
       "20 0 days 00:42:05.054151                 64              True   \n",
       "19 0 days 00:18:39.812013                 72             False   \n",
       "17 0 days 00:28:40.635162                 32             False   \n",
       "4  0 days 00:21:40.267347                 40              True   \n",
       "11 0 days 00:21:45.972355                 96              True   \n",
       "18 0 days 00:30:15.728164                 24             False   \n",
       "5  0 days 00:09:47.199543                104              True   \n",
       "7  0 days 00:11:33.034728                 96              True   \n",
       "8  0 days 00:07:28.539857                 32             False   \n",
       "1  0 days 00:11:31.760177                 56             False   \n",
       "31 0 days 00:24:47.928204                 16             False   \n",
       "30 0 days 00:31:24.987753                 32             False   \n",
       "16 0 days 00:49:20.429491                 24             False   \n",
       "2                     NaT                 88             False   \n",
       "35                    NaT                 40              True   \n",
       "36                    NaT                 40              True   \n",
       "\n",
       "    params_hid_dim params_label_fn  params_layer  params_layerwise_label  \\\n",
       "15              56             lin             3                   False   \n",
       "0               16             lin             3                   False   \n",
       "28              48             lin             3                   False   \n",
       "23              32             lin             4                   False   \n",
       "21              32             lin             4                   False   \n",
       "14              64             lin             3                   False   \n",
       "34              64             lin             3                   False   \n",
       "25              32             lin             4                   False   \n",
       "12              56             lin             3                   False   \n",
       "10              40             emb             4                    True   \n",
       "24              32             lin             4                   False   \n",
       "22               8             lin             3                   False   \n",
       "27              48             lin             3                   False   \n",
       "33              48             lin             3                   False   \n",
       "32              48             lin             2                   False   \n",
       "3               16             emb             3                   False   \n",
       "29              56             lin             3                    True   \n",
       "9               40             emb             2                    True   \n",
       "6               40             emb             4                   False   \n",
       "13              56             lin             3                    True   \n",
       "26              16             lin             3                   False   \n",
       "20              24             lin             4                   False   \n",
       "19              24             lin             2                   False   \n",
       "17              48             lin             2                   False   \n",
       "4               40             emb             2                    True   \n",
       "11              24             emb             4                    True   \n",
       "18              48             lin             2                   False   \n",
       "5               16             lin             1                   False   \n",
       "7               24             lin             1                   False   \n",
       "8                8             emb             1                   False   \n",
       "1               64             emb             1                   False   \n",
       "31              56             lin             2                   False   \n",
       "30              56             lin             3                    True   \n",
       "16              64             lin             3                   False   \n",
       "2               40             lin             4                    True   \n",
       "35              64             lin             4                   False   \n",
       "36              16             lin             4                   False   \n",
       "\n",
       "    params_ln  params_lr  params_res     state  \n",
       "15       True     0.0030       False  COMPLETE  \n",
       "0        True     0.0030        True  COMPLETE  \n",
       "28       True     0.0030        True  COMPLETE  \n",
       "23       True     0.0030       False  COMPLETE  \n",
       "21       True     0.0030       False  COMPLETE  \n",
       "14       True     0.0030       False  COMPLETE  \n",
       "34       True     0.0030        True  COMPLETE  \n",
       "25       True     0.0030       False  COMPLETE  \n",
       "12       True     0.0030       False  COMPLETE  \n",
       "10       True     0.0003       False  COMPLETE  \n",
       "24       True     0.0030       False  COMPLETE  \n",
       "22       True     0.0030       False  COMPLETE  \n",
       "27       True     0.0030       False  COMPLETE  \n",
       "33       True     0.0030        True  COMPLETE  \n",
       "32       True     0.0100        True  COMPLETE  \n",
       "3       False     0.0030        True  COMPLETE  \n",
       "29      False     0.0030        True  COMPLETE  \n",
       "9        True     0.0003       False  COMPLETE  \n",
       "6        True     0.0100        True  COMPLETE  \n",
       "13       True     0.0003       False  COMPLETE  \n",
       "26       True     0.0030       False  COMPLETE  \n",
       "20       True     0.0010       False  COMPLETE  \n",
       "19       True     0.0010       False  COMPLETE  \n",
       "17       True     0.0030        True  COMPLETE  \n",
       "4       False     0.0010        True  COMPLETE  \n",
       "11      False     0.0003       False  COMPLETE  \n",
       "18       True     0.0030        True  COMPLETE  \n",
       "5        True     0.0030        True  COMPLETE  \n",
       "7        True     0.0100        True  COMPLETE  \n",
       "8       False     0.0100       False  COMPLETE  \n",
       "1       False     0.0100        True  COMPLETE  \n",
       "31      False     0.0010        True  COMPLETE  \n",
       "30      False     0.0010        True  COMPLETE  \n",
       "16       True     0.0030        True  COMPLETE  \n",
       "2       False     0.0100       False   RUNNING  \n",
       "35       True     0.0030        True   RUNNING  \n",
       "36       True     0.0030        True   RUNNING  "
      ]
     },
     "execution_count": 13,
     "metadata": {},
     "output_type": "execute_result"
    }
   ],
   "source": [
    "df"
   ]
  },
  {
   "cell_type": "code",
   "execution_count": 6,
   "metadata": {},
   "outputs": [
    {
     "name": "stderr",
     "output_type": "stream",
     "text": [
      "/tmp/ipykernel_394384/1279523480.py:1: ExperimentalWarning: plot_param_importances is experimental (supported from v2.2.0). The interface can change in the future.\n",
      "  oplot.plot_param_importances(stu)\n"
     ]
    },
    {
     "data": {
      "text/plain": [
       "<AxesSubplot:title={'center':'Hyperparameter Importances'}, xlabel='Importance for Objective Value', ylabel='Hyperparameter'>"
      ]
     },
     "execution_count": 6,
     "metadata": {},
     "output_type": "execute_result"
    },
    {
     "data": {
      "image/png": "[encoded data removed]",
      "text/plain": [
       "<Figure size 432x288 with 1 Axes>"
      ]
     },
     "metadata": {
      "needs_background": "light"
     },
     "output_type": "display_data"
    }
   ],
   "source": [
    "oplot.plot_param_importances(stu)"
   ]
  },
  {
   "cell_type": "code",
   "execution_count": 1,
   "metadata": {},
   "outputs": [],
   "source": [
    "from torch_geometric_signed_directed.utils import link_class_split, in_out_degree\n",
    "from torch_geometric_signed_directed.nn.directed import MagNet_link_prediction\n",
    "from torch_geometric_signed_directed.data import load_directed_real_data\n",
    "from torch_sparse import SparseTensor\n",
    "from sklearn.linear_model import LogisticRegression"
   ]
  },
  {
   "cell_type": "code",
   "execution_count": 59,
   "metadata": {},
   "outputs": [
    {
     "name": "stderr",
     "output_type": "stream",
     "text": [
      "Downloading https://github.com/SherylHYX/pytorch_geometric_signed_directed/raw/main/datasets/telegram/telegram_adj.npz\n",
      "Downloading https://github.com/SherylHYX/pytorch_geometric_signed_directed/raw/main/datasets/telegram/telegram_labels.npy\n",
      "Processing...\n",
      "Done!\n"
     ]
    }
   ],
   "source": [
    "data = load_directed_real_data(dataset=\"telegram\", root=\"data\")\n",
    "link_data = link_class_split(data, prob_val=0.15, prob_test=0.05, task='existence', splits=5)"
   ]
  },
  {
   "cell_type": "code",
   "execution_count": 60,
   "metadata": {},
   "outputs": [],
   "source": [
    "def computecn(ei, ea, tar_ei, sym=True):\n",
    "    adj = SparseTensor(ei[0], col=ei[1], value=ea, sparse_sizes=(data.num_nodes, data.num_nodes))\n",
    "    if sym:\n",
    "        adj = adj.to_symmetric()\n",
    "    adj2 = adj@adj\n",
    "    tar_id = tar_ei[0] * adj2.sparse_sizes()[1] + tar_ei[1]\n",
    "    adj2=adj2.sparse_reshape(-1, 1)\n",
    "    return adj2[tar_id].to_dense()"
   ]
  },
  {
   "cell_type": "code",
   "execution_count": 61,
   "metadata": {},
   "outputs": [],
   "source": [
    "import torch_sparse"
   ]
  },
  {
   "cell_type": "code",
   "execution_count": 52,
   "metadata": {},
   "outputs": [],
   "source": [
    "import torch"
   ]
  },
  {
   "cell_type": "code",
   "execution_count": 70,
   "metadata": {},
   "outputs": [],
   "source": [
    "def computecn(ei, ea, tar_ei, sym=True):\n",
    "    adj = SparseTensor(ei[0], col=ei[1], value=ea, sparse_sizes=(data.num_nodes, data.num_nodes))\n",
    "    if sym:\n",
    "        adj = adj.to_symmetric()\n",
    "    deg = adj.sum(dim=-1)\n",
    "    idx = torch.arange(deg.shape[0])\n",
    "    norm = SparseTensor(row=idx, col=idx, value=1/(1+deg))\n",
    "    adj2 = adj@norm@adj\n",
    "    tar_id = tar_ei[0] * adj2.sparse_sizes()[1] + tar_ei[1]\n",
    "    adj2=adj2.sparse_reshape(-1, 1)\n",
    "    return adj2[tar_id].to_dense()"
   ]
  },
  {
   "cell_type": "code",
   "execution_count": 62,
   "metadata": {},
   "outputs": [],
   "source": [
    "dat = link_data[0]"
   ]
  },
  {
   "cell_type": "code",
   "execution_count": 63,
   "metadata": {},
   "outputs": [],
   "source": [
    "ei, ea = dat[\"graph\"], dat[\"weights\"]"
   ]
  },
  {
   "cell_type": "code",
   "execution_count": 75,
   "metadata": {},
   "outputs": [],
   "source": [
    "trn_cn = computecn(ei, ea, dat[\"train\"][\"edges\"].t())\n",
    "val_cn = computecn(ei, ea, dat[\"val\"][\"edges\"].t())\n",
    "tst_cn = computecn(ei, ea, dat[\"test\"][\"edges\"].t())\n",
    "trn_y = dat[\"train\"][\"label\"]\n",
    "val_y = dat[\"val\"][\"label\"]\n",
    "tst_y = dat[\"test\"][\"label\"]"
   ]
  },
  {
   "cell_type": "code",
   "execution_count": 76,
   "metadata": {},
   "outputs": [],
   "source": [
    "from sklearn.linear_model import RidgeClassifier\n",
    "mod = LogisticRegression()\n",
    "mod = mod.fit(trn_cn.numpy(), trn_y)"
   ]
  },
  {
   "cell_type": "code",
   "execution_count": 77,
   "metadata": {},
   "outputs": [],
   "source": [
    "pred = mod.predict(tst_cn)"
   ]
  },
  {
   "cell_type": "code",
   "execution_count": 74,
   "metadata": {},
   "outputs": [],
   "source": [
    "from sklearn.metrics import accuracy_score"
   ]
  },
  {
   "cell_type": "code",
   "execution_count": 78,
   "metadata": {},
   "outputs": [
    {
     "data": {
      "text/plain": [
       "0.7258426966292135"
      ]
     },
     "execution_count": 78,
     "metadata": {},
     "output_type": "execute_result"
    }
   ],
   "source": [
    "accuracy_score(tst_y, pred)"
   ]
  },
  {
   "cell_type": "code",
   "execution_count": 54,
   "metadata": {},
   "outputs": [],
   "source": [
    "import matplotlib.pyplot as plt"
   ]
  },
  {
   "cell_type": "code",
   "execution_count": 10,
   "metadata": {},
   "outputs": [
    {
     "data": {
      "text/plain": [
       "(tensor(0.3855), tensor(0.0258))"
      ]
     },
     "execution_count": 10,
     "metadata": {},
     "output_type": "execute_result"
    }
   ],
   "source": [
    "trn_cn[dat[\"train\"][\"label\"]==0].mean(),trn_cn[dat[\"train\"][\"label\"]==1].mean()"
   ]
  },
  {
   "cell_type": "code",
   "execution_count": 11,
   "metadata": {},
   "outputs": [],
   "source": [
    "from torch_geometric.utils import is_undirected"
   ]
  },
  {
   "cell_type": "code",
   "execution_count": 14,
   "metadata": {},
   "outputs": [
    {
     "data": {
      "text/plain": [
       "torch.int64"
      ]
     },
     "execution_count": 14,
     "metadata": {},
     "output_type": "execute_result"
    }
   ],
   "source": [
    "dat[\"test\"][\"label\"].dtype"
   ]
  },
  {
   "cell_type": "code",
   "execution_count": 17,
   "metadata": {},
   "outputs": [
    {
     "data": {
      "text/plain": [
       "torch.Size([2, 2288])"
      ]
     },
     "execution_count": 17,
     "metadata": {},
     "output_type": "execute_result"
    }
   ],
   "source": [
    "dat[\"graph\"].shape"
   ]
  },
  {
   "cell_type": "code",
   "execution_count": 24,
   "metadata": {},
   "outputs": [
    {
     "data": {
      "text/plain": [
       "tensor(True)"
      ]
     },
     "execution_count": 24,
     "metadata": {},
     "output_type": "execute_result"
    }
   ],
   "source": [
    "(dat[\"weights\"]==1).all()"
   ]
  },
  {
   "cell_type": "code",
   "execution_count": 19,
   "metadata": {},
   "outputs": [
    {
     "data": {
      "text/plain": [
       "torch.Size([4340, 2])"
      ]
     },
     "execution_count": 19,
     "metadata": {},
     "output_type": "execute_result"
    }
   ],
   "source": [
    "dat[\"train\"][\"edges\"].shape"
   ]
  },
  {
   "cell_type": "code",
   "execution_count": null,
   "metadata": {},
   "outputs": [],
   "source": []
  }
 ],
 "metadata": {
  "kernelspec": {
   "display_name": "Python 3.9.7 ('base')",
   "language": "python",
   "name": "python3"
  },
  "language_info": {
   "codemirror_mode": {
    "name": "ipython",
    "version": 3
   },
   "file_extension": ".py",
   "mimetype": "text/x-python",
   "name": "python",
   "nbconvert_exporter": "python",
   "pygments_lexer": "ipython3",
   "version": "3.9.7"
  },
  "orig_nbformat": 4,
  "vscode": {
   "interpreter": {
    "hash": "4dba4591439132a0fad40556f7571a705377b23ec7958141fde9b1ada89e9314"
   }
  }
 },
 "nbformat": 4,
 "nbformat_minor": 2
}
